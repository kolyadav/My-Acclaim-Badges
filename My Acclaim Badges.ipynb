{
 "cells": [
  {
   "cell_type": "code",
   "execution_count": 1,
   "metadata": {},
   "outputs": [
    {
     "name": "stdout",
     "output_type": "stream",
     "text": [
      "Imported\n"
     ]
    }
   ],
   "source": [
    "# Import Required Libraries\n",
    "from bs4 import BeautifulSoup\n",
    "import lxml\n",
    "import requests\n",
    "print(\"Imported\")"
   ]
  },
  {
   "cell_type": "code",
   "execution_count": 10,
   "metadata": {},
   "outputs": [
    {
     "name": "stdout",
     "output_type": "stream",
     "text": [
      "n\\This program lists your badges from the Acclaim Badges Platform \n",
      "\n",
      "kolla-ravikanth-yadav\n"
     ]
    }
   ],
   "source": [
    "# Type in your Acclaim badges Url\n",
    "print(\"n\\This program lists your badges from the Acclaim Badges Platform \\n\")\n",
    "\n",
    "# Enter your user name for your Acclaim badges. (Example : \"kolla-ravikanth-yadav\") \n",
    "name = input()\n",
    "url = \"https://www.youracclaim.com/users/\"+name"
   ]
  },
  {
   "cell_type": "code",
   "execution_count": 4,
   "metadata": {},
   "outputs": [],
   "source": [
    "# Getting the webpage,create a response object \n",
    "response = requests.get(url)"
   ]
  },
  {
   "cell_type": "code",
   "execution_count": 5,
   "metadata": {},
   "outputs": [],
   "source": [
    "# Extracting the source code of the page\n",
    "data = response.text"
   ]
  },
  {
   "cell_type": "code",
   "execution_count": 6,
   "metadata": {},
   "outputs": [],
   "source": [
    "# Passing the Source code to BeautifulSoup to create a BeautifulSoup Object for it.\n",
    "soup = BeautifulSoup(data,'lxml')"
   ]
  },
  {
   "cell_type": "code",
   "execution_count": 8,
   "metadata": {},
   "outputs": [],
   "source": [
    "# Extracting all the <a> whose class name is 'result-title' into a list\n",
    "badges = soup.findAll('em', {'class':'word-break'})"
   ]
  },
  {
   "cell_type": "code",
   "execution_count": 9,
   "metadata": {},
   "outputs": [
    {
     "name": "stdout",
     "output_type": "stream",
     "text": [
      "\n",
      "Copy all of this text below for use in your resume,cv, Social Media Profiles: \n",
      "\n",
      "https://www.youracclaim.com/users/kolla-ravikanth-yadav\n",
      "\n",
      "List of Badges:\n",
      "IBM Mentor\n",
      "Applied Data Science Capstone\n",
      "Data Science Professional Certificate\n",
      "Machine Learning with Python\n",
      "Data Analysis with Python\n",
      "Data Visualization with Python\n",
      "Databases and SQL for Data Science\n",
      "Python for Applied Data Science\n",
      "Data Science Methodology\n",
      "Open Source Tools for Data Science\n",
      "Data Science Orientation\n",
      "ISO/IEC 20000 Auditor\n",
      "Machine Learning with R - Level 1\n",
      "Python for Data Science\n",
      "Big Data Foundations - Level 1\n",
      "Enterprise Design Thinking Practitioner\n",
      "IBM Agile Champion\n",
      "IBM Agile Explorer\n",
      "Watson Analytics - Level 1\n",
      "Statistics 101\n",
      "Data Science Foundations - Level 1\n",
      "\n"
     ]
    }
   ],
   "source": [
    "# Extracting the text from the <a> tags, i.e class badges\n",
    "print()\n",
    "print(\"Copy all of this text below for use in your resume,cv, Social Media Profiles: \\n\")\n",
    "print(url)\n",
    "print(\"\\nList of Badges:\")\n",
    "for badges in badges:\n",
    "    print(badges.text)\n",
    "print()"
   ]
  },
  {
   "cell_type": "code",
   "execution_count": null,
   "metadata": {},
   "outputs": [],
   "source": []
  }
 ],
 "metadata": {
  "kernelspec": {
   "display_name": "Python 3",
   "language": "python",
   "name": "python3"
  },
  "language_info": {
   "codemirror_mode": {
    "name": "ipython",
    "version": 3
   },
   "file_extension": ".py",
   "mimetype": "text/x-python",
   "name": "python",
   "nbconvert_exporter": "python",
   "pygments_lexer": "ipython3",
   "version": "3.6.4"
  }
 },
 "nbformat": 4,
 "nbformat_minor": 2
}
